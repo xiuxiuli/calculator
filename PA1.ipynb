{
  "metadata": {
    "kernelspec": {
      "name": "python",
      "display_name": "Python (Pyodide)",
      "language": "python"
    },
    "language_info": {
      "codemirror_mode": {
        "name": "python",
        "version": 3
      },
      "file_extension": ".py",
      "mimetype": "text/x-python",
      "name": "python",
      "nbconvert_exporter": "python",
      "pygments_lexer": "ipython3",
      "version": "3.8"
    },
    "colab": {
      "provenance": [],
      "include_colab_link": true
    }
  },
  "nbformat_minor": 0,
  "nbformat": 4,
  "cells": [
    {
      "cell_type": "markdown",
      "metadata": {
        "id": "view-in-github",
        "colab_type": "text"
      },
      "source": [
        "<a href=\"https://colab.research.google.com/github/xiuxiuli/calculator/blob/main/PA1.ipynb\" target=\"_parent\"><img src=\"https://colab.research.google.com/assets/colab-badge.svg\" alt=\"Open In Colab\"/></a>"
      ]
    },
    {
      "cell_type": "markdown",
      "source": [
        "# **Decision Tree Classification: 50 Points**"
      ],
      "metadata": {
        "id": "qTorIDyxp9PA"
      }
    },
    {
      "cell_type": "markdown",
      "source": [
        "Decision Trees (DTs) are a non-parametric supervised learning method used for classification and regression. The goal is to create a model that predicts the value of a target variable by learning simple decision rules inferred from the data features. A tree can be seen as a piecewise constant approximation."
      ],
      "metadata": {
        "id": "c7UQXxqk_mIp"
      }
    },
    {
      "cell_type": "markdown",
      "source": [
        "**STEP 1: Importing all the required libraries.**"
      ],
      "metadata": {
        "id": "6FmlIiAi__u1"
      }
    },
    {
      "cell_type": "code",
      "source": [
        "# Libraries for data analysis\n",
        "import numpy as np # For large multi-dimensional array and matrix processing\n",
        "import pandas as pd # For data extraction and preparation\n",
        "\n",
        "#The sklearn.tree module includes decision tree-based models for classification and regression.\n",
        "from sklearn import tree\n",
        "\n",
        "# Libraries for displaying results and analysis\n",
        "from sklearn.model_selection import train_test_split\n",
        "from sklearn.metrics import confusion_matrix, accuracy_score, ConfusionMatrixDisplay"
      ],
      "metadata": {
        "id": "2CQFMu_co3uB"
      },
      "outputs": [],
      "execution_count": null
    },
    {
      "cell_type": "markdown",
      "source": [
        "**STEP 2: Importing Dataset**"
      ],
      "metadata": {
        "id": "Tw2IL1zjARue"
      }
    },
    {
      "cell_type": "markdown",
      "source": [
        "We are going to be using the iris toy dataset from SciKit Learn"
      ],
      "metadata": {
        "id": "vcZC7VWpAVde"
      }
    },
    {
      "cell_type": "code",
      "source": [
        "from sklearn.datasets import load_iris\n",
        "data = load_iris()"
      ],
      "metadata": {
        "id": "xZ8E5GxNteHV"
      },
      "outputs": [],
      "execution_count": null
    },
    {
      "cell_type": "markdown",
      "source": [
        "You can optionally print the Description of the dataset for your reference."
      ],
      "metadata": {
        "id": "7H1o-aBUBNLC"
      }
    },
    {
      "cell_type": "code",
      "source": [
        "print(data.data.shape)\n",
        "print(data.target.shape)\n",
        "print(data.DESCR)"
      ],
      "metadata": {
        "id": "Qn_6VEEHzNpd",
        "outputId": "f2418236-4d47-48c3-9f29-f79bdca8048c"
      },
      "outputs": [
        {
          "name": "stdout",
          "output_type": "stream",
          "text": "(150, 4)\n,(150,)\n,.. _iris_dataset:\n,\n,Iris plants dataset\n,--------------------\n,\n,**Data Set Characteristics:**\n,\n,:Number of Instances: 150 (50 in each of three classes)\n,:Number of Attributes: 4 numeric, predictive attributes and the class\n,:Attribute Information:\n,    - sepal length in cm\n,    - sepal width in cm\n,    - petal length in cm\n,    - petal width in cm\n,    - class:\n,            - Iris-Setosa\n,            - Iris-Versicolour\n,            - Iris-Virginica\n,\n,:Summary Statistics:\n,\n,============== ==== ==== ======= ===== ====================\n,                Min  Max   Mean    SD   Class Correlation\n,============== ==== ==== ======= ===== ====================\n,sepal length:   4.3  7.9   5.84   0.83    0.7826\n,sepal width:    2.0  4.4   3.05   0.43   -0.4194\n,petal length:   1.0  6.9   3.76   1.76    0.9490  (high!)\n,petal width:    0.1  2.5   1.20   0.76    0.9565  (high!)\n,============== ==== ==== ======= ===== ====================\n,\n,:Missing Attribute Values: None\n,:Class Distribution: 33.3% for each of 3 classes.\n,:Creator: R.A. Fisher\n,:Donor: Michael Marshall (MARSHALL%PLU@io.arc.nasa.gov)\n,:Date: July, 1988\n,\n,The famous Iris database, first used by Sir R.A. Fisher. The dataset is taken\n,from Fisher's paper. Note that it's the same as in R, but not as in the UCI\n,Machine Learning Repository, which has two wrong data points.\n,\n,This is perhaps the best known database to be found in the\n,pattern recognition literature.  Fisher's paper is a classic in the field and\n,is referenced frequently to this day.  (See Duda & Hart, for example.)  The\n,data set contains 3 classes of 50 instances each, where each class refers to a\n,type of iris plant.  One class is linearly separable from the other 2; the\n,latter are NOT linearly separable from each other.\n,\n,.. dropdown:: References\n,\n,  - Fisher, R.A. \"The use of multiple measurements in taxonomic problems\"\n,    Annual Eugenics, 7, Part II, 179-188 (1936); also in \"Contributions to\n,    Mathematical Statistics\" (John Wiley, NY, 1950).\n,  - Duda, R.O., & Hart, P.E. (1973) Pattern Classification and Scene Analysis.\n,    (Q327.D83) John Wiley & Sons.  ISBN 0-471-22361-1.  See page 218.\n,  - Dasarathy, B.V. (1980) \"Nosing Around the Neighborhood: A New System\n,    Structure and Classification Rule for Recognition in Partially Exposed\n,    Environments\".  IEEE Transactions on Pattern Analysis and Machine\n,    Intelligence, Vol. PAMI-2, No. 1, 67-71.\n,  - Gates, G.W. (1972) \"The Reduced Nearest Neighbor Rule\".  IEEE Transactions\n,    on Information Theory, May 1972, 431-433.\n,  - See also: 1988 MLC Proceedings, 54-64.  Cheeseman et al\"s AUTOCLASS II\n,    conceptual clustering system finds 3 classes in the data.\n,  - Many, many more ...\n,\n"
        }
      ],
      "execution_count": null
    },
    {
      "cell_type": "markdown",
      "source": [
        "**STEP 3: Split the Dataset (10 Points)**\n",
        "\n",
        "**TO DO:** Similar to the KNN Tutorial, split the given X and y data into X_train, X_test, y_train, y_test, using **test ratio of 0.3 and random_state = 0**."
      ],
      "metadata": {
        "id": "qOK9ShfyBbD0"
      }
    },
    {
      "cell_type": "code",
      "source": [
        "X = data.data\n",
        "y = data.target\n",
        "\n",
        "##### Use numpy arrays ######\n",
        "X_train = None\n",
        "y_train = None\n",
        "X_test = None\n",
        "y_test = None\n",
        "\n",
        "##### INPUT CODE HERE (~1 line of code) ######\n",
        "\n",
        "\n",
        "##############################################\n",
        "\n",
        "assert X_train.shape == (105,4)\n",
        "assert y_train.shape == (105,)\n",
        "assert X_test.shape == (45,4)\n",
        "assert y_test.shape == (45,)\n",
        "\n",
        "print(\"Size of training data= \", X_train.shape[0],\" Samples\")\n",
        "print(\"Size of testing data= \", X_test.shape[0],\" Samples\")\n"
      ],
      "metadata": {
        "id": "Bk8v4pJ5vVEn",
        "outputId": "9aefd844-3064-477b-bbe3-775007c977f0"
      },
      "outputs": [
        {
          "name": "stdout",
          "output_type": "stream",
          "text": "Size of training data=  105  Samples\n,Size of testing data=  45  Samples\n"
        }
      ],
      "execution_count": null
    },
    {
      "cell_type": "markdown",
      "source": [
        "**STEP 4: Fit model to training data (10 Points)**\n",
        "\n",
        "**TO DO:** Create a Decision Tree object (named decision_tree) with random state 0 and max depth of 3. Fit the given decision tree to X_train and y_train data. You may use [this link](https://scikit-learn.org/stable/modules/generated/sklearn.tree.DecisionTreeClassifier.html#sklearn.tree.DecisionTreeClassifier.fit) for reference."
      ],
      "metadata": {
        "id": "LPip_B47Dza3"
      }
    },
    {
      "cell_type": "code",
      "source": [
        "decision_tree = None\n",
        "\n",
        "##### INPUT CODE HERE (~2 line of code) ######\n",
        "\n",
        "\n",
        "##############################################\n",
        "\n",
        "print(\"Simple Visualization of the tree you created:\")\n",
        "print(tree.export_text(decision_tree, feature_names=data.feature_names))\n"
      ],
      "metadata": {
        "id": "zrwrOMlj0Nkw",
        "outputId": "de27d4ed-170b-4b3d-a67f-cae2f522044b"
      },
      "outputs": [
        {
          "name": "stdout",
          "output_type": "stream",
          "text": "Simple Visualization of the tree you created:\n,|--- petal width (cm) <= 0.75\n,|   |--- class: 0\n,|--- petal width (cm) >  0.75\n,|   |--- petal length (cm) <= 4.95\n,|   |   |--- petal width (cm) <= 1.65\n,|   |   |   |--- class: 1\n,|   |   |--- petal width (cm) >  1.65\n,|   |   |   |--- class: 2\n,|   |--- petal length (cm) >  4.95\n,|   |   |--- petal length (cm) <= 5.05\n,|   |   |   |--- class: 2\n,|   |   |--- petal length (cm) >  5.05\n,|   |   |   |--- class: 2\n,\n"
        }
      ],
      "execution_count": null
    },
    {
      "cell_type": "markdown",
      "source": [
        "**STEP 5: Testing the model (10 Points)**\n",
        "\n",
        "**TO DO:** Find target predictions by giving **X_test** input to your model and store them in **y_pred**. You may need [this link](https://scikit-learn.org/stable/modules/generated/sklearn.tree.DecisionTreeClassifier.html#sklearn.tree.DecisionTreeClassifier.predict) for reference."
      ],
      "metadata": {
        "id": "gmAT6f-qFSSF"
      }
    },
    {
      "cell_type": "code",
      "source": [
        "y_pred = None\n",
        "\n",
        "##### INPUT CODE HERE (~1 line of code) ######\n",
        "\n",
        "\n",
        "##############################################"
      ],
      "metadata": {
        "id": "HoXj0eqZDv-F"
      },
      "outputs": [],
      "execution_count": null
    },
    {
      "cell_type": "markdown",
      "source": [
        "**STEP 6: Visualize the Results  (20 Points)**\n",
        "\n",
        "**TO DO:** Similar to the KNN Tutorial, plot confusion matrix, and accuracy of model predictions. Store accuracy in **acc** variable\n",
        "\n",
        "You may need the following references:\n",
        "\n",
        "[Confusion Matrix](https://scikit-learn.org/stable/modules/generated/sklearn.metrics.confusion_matrix.html)\n",
        "\n",
        "[Confusion Matrix Display](https://scikit-learn.org/stable/modules/generated/sklearn.metrics.ConfusionMatrixDisplay.html)\n",
        "\n",
        "[Accuracy](https://scikit-learn.org/stable/modules/generated/sklearn.metrics.accuracy_score.html)"
      ],
      "metadata": {
        "id": "ux7n7XZJF9VY"
      }
    },
    {
      "cell_type": "code",
      "source": [
        "## Make sure to save your accuracy in the variable \"acc\"\n",
        "acc = 0\n",
        "##### INPUT CODE HERE (~4 line of code) ######\n",
        "# Make sure you plot the confusion matrix, i.e. once this code cell is run, it should output a 3X3 confusion matrix and accuracy #\n",
        "\n",
        "##############################################\n",
        "\n",
        "print('Accuracy of our model is equal to ' + str(round(acc, 4)*100) + ' %.')"
      ],
      "metadata": {
        "id": "CSXyi0iYwuy6",
        "outputId": "0366cda2-ace7-4fe9-99ff-5126586a4607"
      },
      "outputs": [
        {
          "name": "stdout",
          "output_type": "stream",
          "text": "Accuracy of our model is equal to 97.78 %.\n"
        }
      ],
      "execution_count": null
    },
    {
      "cell_type": "markdown",
      "source": [
        "\n",
        "\n",
        "---\n",
        "\n"
      ],
      "metadata": {
        "id": "v3YuUi8ZHY9f"
      }
    },
    {
      "cell_type": "markdown",
      "source": [
        "# **Random Forest Regression: 40 Points**\n",
        "\n"
      ],
      "metadata": {
        "id": "uBbRybjU-xjE"
      }
    },
    {
      "cell_type": "markdown",
      "source": [
        "Decision trees can also be applied to regression problems, using the DecisionTreeRegressor class.\n",
        "\n",
        "As in the classification setting, the fit method will take as argument arrays X and y, only that in this case y is expected to have floating point values instead of integer values:"
      ],
      "metadata": {
        "id": "qGYwmGnGxn_u"
      }
    },
    {
      "cell_type": "markdown",
      "source": [
        "**STEP 1: Importing all the required libraries.**"
      ],
      "metadata": {
        "id": "48r-OKiExtSw"
      }
    },
    {
      "cell_type": "code",
      "source": [
        "#The sklearn.ensemble module includes the RandomForest algorithm.\n",
        "from sklearn.ensemble import RandomForestRegressor\n",
        "\n",
        "# Libraries for calculating evaluation metrics\n",
        "from sklearn.metrics import mean_squared_error"
      ],
      "metadata": {
        "id": "9kE4RyoD-4-z"
      },
      "outputs": [],
      "execution_count": null
    },
    {
      "cell_type": "markdown",
      "source": [
        "**STEP 2: Importing Dataset**\n",
        "\n",
        "We are going to be using the California Housing dataset.\n",
        "It contains 20640 samples with 8 dimensions to predict the value of a house.\n"
      ],
      "metadata": {
        "id": "las8qWOUHfh2"
      }
    },
    {
      "cell_type": "code",
      "source": [
        "from sklearn.datasets import fetch_california_housing\n",
        "\n",
        "housing_data = fetch_california_housing()"
      ],
      "metadata": {
        "id": "T8NUIU9Z_YE4"
      },
      "outputs": [],
      "execution_count": null
    },
    {
      "cell_type": "markdown",
      "source": [
        "You can optionally print the description and a few samples from the dataset for your reference."
      ],
      "metadata": {
        "id": "njTHiuTYyOiO"
      }
    },
    {
      "cell_type": "code",
      "source": [
        "print(housing_data.keys())\n",
        "print(housing_data.data.shape)\n",
        "print(housing_data.DESCR)\n",
        "\n",
        "print(pd.DataFrame(housing_data.data)[:5])\n",
        "print(pd.DataFrame(housing_data.target)[:5])\n"
      ],
      "metadata": {
        "id": "-YduDpy8BsWD",
        "outputId": "be695561-4a93-4ad4-eb05-599e0b0a9749"
      },
      "outputs": [
        {
          "name": "stdout",
          "output_type": "stream",
          "text": "dict_keys(['data', 'target', 'frame', 'target_names', 'feature_names', 'DESCR'])\n,(20640, 8)\n,.. _california_housing_dataset:\n,\n,California Housing dataset\n,--------------------------\n,\n,**Data Set Characteristics:**\n,\n,:Number of Instances: 20640\n,\n,:Number of Attributes: 8 numeric, predictive attributes and the target\n,\n,:Attribute Information:\n,    - MedInc        median income in block group\n,    - HouseAge      median house age in block group\n,    - AveRooms      average number of rooms per household\n,    - AveBedrms     average number of bedrooms per household\n,    - Population    block group population\n,    - AveOccup      average number of household members\n,    - Latitude      block group latitude\n,    - Longitude     block group longitude\n,\n,:Missing Attribute Values: None\n,\n,This dataset was obtained from the StatLib repository.\n,https://www.dcc.fc.up.pt/~ltorgo/Regression/cal_housing.html\n,\n,The target variable is the median house value for California districts,\n,expressed in hundreds of thousands of dollars ($100,000).\n,\n,This dataset was derived from the 1990 U.S. census, using one row per census\n,block group. A block group is the smallest geographical unit for which the U.S.\n,Census Bureau publishes sample data (a block group typically has a population\n,of 600 to 3,000 people).\n,\n,A household is a group of people residing within a home. Since the average\n,number of rooms and bedrooms in this dataset are provided per household, these\n,columns may take surprisingly large values for block groups with few households\n,and many empty houses, such as vacation resorts.\n,\n,It can be downloaded/loaded using the\n,:func:`sklearn.datasets.fetch_california_housing` function.\n,\n,.. rubric:: References\n,\n,- Pace, R. Kelley and Ronald Barry, Sparse Spatial Autoregressions,\n,  Statistics and Probability Letters, 33 (1997) 291-297\n,\n,        0     1         2         3       4         5      6       7\n,0  8.3252  41.0  6.984127  1.023810   322.0  2.555556  37.88 -122.23\n,1  8.3014  21.0  6.238137  0.971880  2401.0  2.109842  37.86 -122.22\n,2  7.2574  52.0  8.288136  1.073446   496.0  2.802260  37.85 -122.24\n,3  5.6431  52.0  5.817352  1.073059   558.0  2.547945  37.85 -122.25\n,4  3.8462  52.0  6.281853  1.081081   565.0  2.181467  37.85 -122.25\n,       0\n,0  4.526\n,1  3.585\n,2  3.521\n,3  3.413\n,4  3.422\n"
        }
      ],
      "execution_count": null
    },
    {
      "cell_type": "markdown",
      "source": [
        "**STEP 3: Split the Dataset (10 Points)**\n",
        "\n",
        "**TO DO:** Similar to the KNN Tutorial, split the given X and y data into X_train, X_test, y_train, y_test, using **test ratio of 0.3 and a random state of 0**."
      ],
      "metadata": {
        "id": "5sspyXSmy17q"
      }
    },
    {
      "cell_type": "code",
      "source": [
        "X = housing_data.data\n",
        "y = housing_data.target\n",
        "\n",
        "\n",
        "##### Use numpy arrays ######\n",
        "X_train = None\n",
        "y_train = None\n",
        "X_test = None\n",
        "y_test = None\n",
        "\n",
        "\n",
        "##### INPUT CODE HERE (~1 line of code) ######\n",
        "\n",
        "\n",
        "##############################################\n",
        "\n",
        "assert X_train.shape == (14448, 8)\n",
        "assert y_train.shape == (14448,)\n",
        "assert X_test.shape == (6192, 8)\n",
        "assert y_test.shape == (6192,)\n",
        "\n",
        "print(\"Size of training data= \", X_train.shape[0],\" Samples\")\n",
        "print(\"Size of testing data= \", X_test.shape[0],\" Samples\")\n"
      ],
      "metadata": {
        "id": "FlcuTTiTy9Tk",
        "outputId": "9eed69d9-149d-4e51-9e1d-4040ff89c4c4"
      },
      "outputs": [
        {
          "name": "stdout",
          "output_type": "stream",
          "text": "Size of training data=  14448  Samples\n,Size of testing data=  6192  Samples\n"
        }
      ],
      "execution_count": null
    },
    {
      "cell_type": "markdown",
      "source": [
        "**STEP 4: Fit model to training data (10 Points)**\n",
        "\n",
        "**TO DO:** Fit the given decision tree to X_train and y_train data. You may use [this link](https://scikit-learn.org/stable/modules/generated/sklearn.tree.DecisionTreeClassifier.html#sklearn.tree.DecisionTreeClassifier.fit) for reference."
      ],
      "metadata": {
        "id": "z3WOEAy8zjln"
      }
    },
    {
      "cell_type": "code",
      "source": [
        "model = RandomForestRegressor()\n",
        "\n",
        "##### INPUT CODE HERE (~1 line of code) ######\n",
        "\n",
        "\n",
        "\n",
        "##############################################"
      ],
      "metadata": {
        "id": "pLKCjKwJzofY",
        "outputId": "4ce9bb34-40e9-4598-d26e-27c00461f6ae"
      },
      "outputs": [
        {
          "data": {
            "text/html": [
              "<style>#sk-container-id-3 {\n",
              "  /* Definition of color scheme common for light and dark mode */\n",
              "  --sklearn-color-text: #000;\n",
              "  --sklearn-color-text-muted: #666;\n",
              "  --sklearn-color-line: gray;\n",
              "  /* Definition of color scheme for unfitted estimators */\n",
              "  --sklearn-color-unfitted-level-0: #fff5e6;\n",
              "  --sklearn-color-unfitted-level-1: #f6e4d2;\n",
              "  --sklearn-color-unfitted-level-2: #ffe0b3;\n",
              "  --sklearn-color-unfitted-level-3: chocolate;\n",
              "  /* Definition of color scheme for fitted estimators */\n",
              "  --sklearn-color-fitted-level-0: #f0f8ff;\n",
              "  --sklearn-color-fitted-level-1: #d4ebff;\n",
              "  --sklearn-color-fitted-level-2: #b3dbfd;\n",
              "  --sklearn-color-fitted-level-3: cornflowerblue;\n",
              "\n",
              "  /* Specific color for light theme */\n",
              "  --sklearn-color-text-on-default-background: var(--sg-text-color, var(--theme-code-foreground, var(--jp-content-font-color1, black)));\n",
              "  --sklearn-color-background: var(--sg-background-color, var(--theme-background, var(--jp-layout-color0, white)));\n",
              "  --sklearn-color-border-box: var(--sg-text-color, var(--theme-code-foreground, var(--jp-content-font-color1, black)));\n",
              "  --sklearn-color-icon: #696969;\n",
              "\n",
              "  @media (prefers-color-scheme: dark) {\n",
              "    /* Redefinition of color scheme for dark theme */\n",
              "    --sklearn-color-text-on-default-background: var(--sg-text-color, var(--theme-code-foreground, var(--jp-content-font-color1, white)));\n",
              "    --sklearn-color-background: var(--sg-background-color, var(--theme-background, var(--jp-layout-color0, #111)));\n",
              "    --sklearn-color-border-box: var(--sg-text-color, var(--theme-code-foreground, var(--jp-content-font-color1, white)));\n",
              "    --sklearn-color-icon: #878787;\n",
              "  }\n",
              "}\n",
              "\n",
              "#sk-container-id-3 {\n",
              "  color: var(--sklearn-color-text);\n",
              "}\n",
              "\n",
              "#sk-container-id-3 pre {\n",
              "  padding: 0;\n",
              "}\n",
              "\n",
              "#sk-container-id-3 input.sk-hidden--visually {\n",
              "  border: 0;\n",
              "  clip: rect(1px 1px 1px 1px);\n",
              "  clip: rect(1px, 1px, 1px, 1px);\n",
              "  height: 1px;\n",
              "  margin: -1px;\n",
              "  overflow: hidden;\n",
              "  padding: 0;\n",
              "  position: absolute;\n",
              "  width: 1px;\n",
              "}\n",
              "\n",
              "#sk-container-id-3 div.sk-dashed-wrapped {\n",
              "  border: 1px dashed var(--sklearn-color-line);\n",
              "  margin: 0 0.4em 0.5em 0.4em;\n",
              "  box-sizing: border-box;\n",
              "  padding-bottom: 0.4em;\n",
              "  background-color: var(--sklearn-color-background);\n",
              "}\n",
              "\n",
              "#sk-container-id-3 div.sk-container {\n",
              "  /* jupyter's `normalize.less` sets `[hidden] { display: none; }`\n",
              "     but bootstrap.min.css set `[hidden] { display: none !important; }`\n",
              "     so we also need the `!important` here to be able to override the\n",
              "     default hidden behavior on the sphinx rendered scikit-learn.org.\n",
              "     See: https://github.com/scikit-learn/scikit-learn/issues/21755 */\n",
              "  display: inline-block !important;\n",
              "  position: relative;\n",
              "}\n",
              "\n",
              "#sk-container-id-3 div.sk-text-repr-fallback {\n",
              "  display: none;\n",
              "}\n",
              "\n",
              "div.sk-parallel-item,\n",
              "div.sk-serial,\n",
              "div.sk-item {\n",
              "  /* draw centered vertical line to link estimators */\n",
              "  background-image: linear-gradient(var(--sklearn-color-text-on-default-background), var(--sklearn-color-text-on-default-background));\n",
              "  background-size: 2px 100%;\n",
              "  background-repeat: no-repeat;\n",
              "  background-position: center center;\n",
              "}\n",
              "\n",
              "/* Parallel-specific style estimator block */\n",
              "\n",
              "#sk-container-id-3 div.sk-parallel-item::after {\n",
              "  content: \"\";\n",
              "  width: 100%;\n",
              "  border-bottom: 2px solid var(--sklearn-color-text-on-default-background);\n",
              "  flex-grow: 1;\n",
              "}\n",
              "\n",
              "#sk-container-id-3 div.sk-parallel {\n",
              "  display: flex;\n",
              "  align-items: stretch;\n",
              "  justify-content: center;\n",
              "  background-color: var(--sklearn-color-background);\n",
              "  position: relative;\n",
              "}\n",
              "\n",
              "#sk-container-id-3 div.sk-parallel-item {\n",
              "  display: flex;\n",
              "  flex-direction: column;\n",
              "}\n",
              "\n",
              "#sk-container-id-3 div.sk-parallel-item:first-child::after {\n",
              "  align-self: flex-end;\n",
              "  width: 50%;\n",
              "}\n",
              "\n",
              "#sk-container-id-3 div.sk-parallel-item:last-child::after {\n",
              "  align-self: flex-start;\n",
              "  width: 50%;\n",
              "}\n",
              "\n",
              "#sk-container-id-3 div.sk-parallel-item:only-child::after {\n",
              "  width: 0;\n",
              "}\n",
              "\n",
              "/* Serial-specific style estimator block */\n",
              "\n",
              "#sk-container-id-3 div.sk-serial {\n",
              "  display: flex;\n",
              "  flex-direction: column;\n",
              "  align-items: center;\n",
              "  background-color: var(--sklearn-color-background);\n",
              "  padding-right: 1em;\n",
              "  padding-left: 1em;\n",
              "}\n",
              "\n",
              "\n",
              "/* Toggleable style: style used for estimator/Pipeline/ColumnTransformer box that is\n",
              "clickable and can be expanded/collapsed.\n",
              "- Pipeline and ColumnTransformer use this feature and define the default style\n",
              "- Estimators will overwrite some part of the style using the `sk-estimator` class\n",
              "*/\n",
              "\n",
              "/* Pipeline and ColumnTransformer style (default) */\n",
              "\n",
              "#sk-container-id-3 div.sk-toggleable {\n",
              "  /* Default theme specific background. It is overwritten whether we have a\n",
              "  specific estimator or a Pipeline/ColumnTransformer */\n",
              "  background-color: var(--sklearn-color-background);\n",
              "}\n",
              "\n",
              "/* Toggleable label */\n",
              "#sk-container-id-3 label.sk-toggleable__label {\n",
              "  cursor: pointer;\n",
              "  display: flex;\n",
              "  width: 100%;\n",
              "  margin-bottom: 0;\n",
              "  padding: 0.5em;\n",
              "  box-sizing: border-box;\n",
              "  text-align: center;\n",
              "  align-items: start;\n",
              "  justify-content: space-between;\n",
              "  gap: 0.5em;\n",
              "}\n",
              "\n",
              "#sk-container-id-3 label.sk-toggleable__label .caption {\n",
              "  font-size: 0.6rem;\n",
              "  font-weight: lighter;\n",
              "  color: var(--sklearn-color-text-muted);\n",
              "}\n",
              "\n",
              "#sk-container-id-3 label.sk-toggleable__label-arrow:before {\n",
              "  /* Arrow on the left of the label */\n",
              "  content: \"▸\";\n",
              "  float: left;\n",
              "  margin-right: 0.25em;\n",
              "  color: var(--sklearn-color-icon);\n",
              "}\n",
              "\n",
              "#sk-container-id-3 label.sk-toggleable__label-arrow:hover:before {\n",
              "  color: var(--sklearn-color-text);\n",
              "}\n",
              "\n",
              "/* Toggleable content - dropdown */\n",
              "\n",
              "#sk-container-id-3 div.sk-toggleable__content {\n",
              "  max-height: 0;\n",
              "  max-width: 0;\n",
              "  overflow: hidden;\n",
              "  text-align: left;\n",
              "  /* unfitted */\n",
              "  background-color: var(--sklearn-color-unfitted-level-0);\n",
              "}\n",
              "\n",
              "#sk-container-id-3 div.sk-toggleable__content.fitted {\n",
              "  /* fitted */\n",
              "  background-color: var(--sklearn-color-fitted-level-0);\n",
              "}\n",
              "\n",
              "#sk-container-id-3 div.sk-toggleable__content pre {\n",
              "  margin: 0.2em;\n",
              "  border-radius: 0.25em;\n",
              "  color: var(--sklearn-color-text);\n",
              "  /* unfitted */\n",
              "  background-color: var(--sklearn-color-unfitted-level-0);\n",
              "}\n",
              "\n",
              "#sk-container-id-3 div.sk-toggleable__content.fitted pre {\n",
              "  /* unfitted */\n",
              "  background-color: var(--sklearn-color-fitted-level-0);\n",
              "}\n",
              "\n",
              "#sk-container-id-3 input.sk-toggleable__control:checked~div.sk-toggleable__content {\n",
              "  /* Expand drop-down */\n",
              "  max-height: 200px;\n",
              "  max-width: 100%;\n",
              "  overflow: auto;\n",
              "}\n",
              "\n",
              "#sk-container-id-3 input.sk-toggleable__control:checked~label.sk-toggleable__label-arrow:before {\n",
              "  content: \"▾\";\n",
              "}\n",
              "\n",
              "/* Pipeline/ColumnTransformer-specific style */\n",
              "\n",
              "#sk-container-id-3 div.sk-label input.sk-toggleable__control:checked~label.sk-toggleable__label {\n",
              "  color: var(--sklearn-color-text);\n",
              "  background-color: var(--sklearn-color-unfitted-level-2);\n",
              "}\n",
              "\n",
              "#sk-container-id-3 div.sk-label.fitted input.sk-toggleable__control:checked~label.sk-toggleable__label {\n",
              "  background-color: var(--sklearn-color-fitted-level-2);\n",
              "}\n",
              "\n",
              "/* Estimator-specific style */\n",
              "\n",
              "/* Colorize estimator box */\n",
              "#sk-container-id-3 div.sk-estimator input.sk-toggleable__control:checked~label.sk-toggleable__label {\n",
              "  /* unfitted */\n",
              "  background-color: var(--sklearn-color-unfitted-level-2);\n",
              "}\n",
              "\n",
              "#sk-container-id-3 div.sk-estimator.fitted input.sk-toggleable__control:checked~label.sk-toggleable__label {\n",
              "  /* fitted */\n",
              "  background-color: var(--sklearn-color-fitted-level-2);\n",
              "}\n",
              "\n",
              "#sk-container-id-3 div.sk-label label.sk-toggleable__label,\n",
              "#sk-container-id-3 div.sk-label label {\n",
              "  /* The background is the default theme color */\n",
              "  color: var(--sklearn-color-text-on-default-background);\n",
              "}\n",
              "\n",
              "/* On hover, darken the color of the background */\n",
              "#sk-container-id-3 div.sk-label:hover label.sk-toggleable__label {\n",
              "  color: var(--sklearn-color-text);\n",
              "  background-color: var(--sklearn-color-unfitted-level-2);\n",
              "}\n",
              "\n",
              "/* Label box, darken color on hover, fitted */\n",
              "#sk-container-id-3 div.sk-label.fitted:hover label.sk-toggleable__label.fitted {\n",
              "  color: var(--sklearn-color-text);\n",
              "  background-color: var(--sklearn-color-fitted-level-2);\n",
              "}\n",
              "\n",
              "/* Estimator label */\n",
              "\n",
              "#sk-container-id-3 div.sk-label label {\n",
              "  font-family: monospace;\n",
              "  font-weight: bold;\n",
              "  display: inline-block;\n",
              "  line-height: 1.2em;\n",
              "}\n",
              "\n",
              "#sk-container-id-3 div.sk-label-container {\n",
              "  text-align: center;\n",
              "}\n",
              "\n",
              "/* Estimator-specific */\n",
              "#sk-container-id-3 div.sk-estimator {\n",
              "  font-family: monospace;\n",
              "  border: 1px dotted var(--sklearn-color-border-box);\n",
              "  border-radius: 0.25em;\n",
              "  box-sizing: border-box;\n",
              "  margin-bottom: 0.5em;\n",
              "  /* unfitted */\n",
              "  background-color: var(--sklearn-color-unfitted-level-0);\n",
              "}\n",
              "\n",
              "#sk-container-id-3 div.sk-estimator.fitted {\n",
              "  /* fitted */\n",
              "  background-color: var(--sklearn-color-fitted-level-0);\n",
              "}\n",
              "\n",
              "/* on hover */\n",
              "#sk-container-id-3 div.sk-estimator:hover {\n",
              "  /* unfitted */\n",
              "  background-color: var(--sklearn-color-unfitted-level-2);\n",
              "}\n",
              "\n",
              "#sk-container-id-3 div.sk-estimator.fitted:hover {\n",
              "  /* fitted */\n",
              "  background-color: var(--sklearn-color-fitted-level-2);\n",
              "}\n",
              "\n",
              "/* Specification for estimator info (e.g. \"i\" and \"?\") */\n",
              "\n",
              "/* Common style for \"i\" and \"?\" */\n",
              "\n",
              ".sk-estimator-doc-link,\n",
              "a:link.sk-estimator-doc-link,\n",
              "a:visited.sk-estimator-doc-link {\n",
              "  float: right;\n",
              "  font-size: smaller;\n",
              "  line-height: 1em;\n",
              "  font-family: monospace;\n",
              "  background-color: var(--sklearn-color-background);\n",
              "  border-radius: 1em;\n",
              "  height: 1em;\n",
              "  width: 1em;\n",
              "  text-decoration: none !important;\n",
              "  margin-left: 0.5em;\n",
              "  text-align: center;\n",
              "  /* unfitted */\n",
              "  border: var(--sklearn-color-unfitted-level-1) 1pt solid;\n",
              "  color: var(--sklearn-color-unfitted-level-1);\n",
              "}\n",
              "\n",
              ".sk-estimator-doc-link.fitted,\n",
              "a:link.sk-estimator-doc-link.fitted,\n",
              "a:visited.sk-estimator-doc-link.fitted {\n",
              "  /* fitted */\n",
              "  border: var(--sklearn-color-fitted-level-1) 1pt solid;\n",
              "  color: var(--sklearn-color-fitted-level-1);\n",
              "}\n",
              "\n",
              "/* On hover */\n",
              "div.sk-estimator:hover .sk-estimator-doc-link:hover,\n",
              ".sk-estimator-doc-link:hover,\n",
              "div.sk-label-container:hover .sk-estimator-doc-link:hover,\n",
              ".sk-estimator-doc-link:hover {\n",
              "  /* unfitted */\n",
              "  background-color: var(--sklearn-color-unfitted-level-3);\n",
              "  color: var(--sklearn-color-background);\n",
              "  text-decoration: none;\n",
              "}\n",
              "\n",
              "div.sk-estimator.fitted:hover .sk-estimator-doc-link.fitted:hover,\n",
              ".sk-estimator-doc-link.fitted:hover,\n",
              "div.sk-label-container:hover .sk-estimator-doc-link.fitted:hover,\n",
              ".sk-estimator-doc-link.fitted:hover {\n",
              "  /* fitted */\n",
              "  background-color: var(--sklearn-color-fitted-level-3);\n",
              "  color: var(--sklearn-color-background);\n",
              "  text-decoration: none;\n",
              "}\n",
              "\n",
              "/* Span, style for the box shown on hovering the info icon */\n",
              ".sk-estimator-doc-link span {\n",
              "  display: none;\n",
              "  z-index: 9999;\n",
              "  position: relative;\n",
              "  font-weight: normal;\n",
              "  right: .2ex;\n",
              "  padding: .5ex;\n",
              "  margin: .5ex;\n",
              "  width: min-content;\n",
              "  min-width: 20ex;\n",
              "  max-width: 50ex;\n",
              "  color: var(--sklearn-color-text);\n",
              "  box-shadow: 2pt 2pt 4pt #999;\n",
              "  /* unfitted */\n",
              "  background: var(--sklearn-color-unfitted-level-0);\n",
              "  border: .5pt solid var(--sklearn-color-unfitted-level-3);\n",
              "}\n",
              "\n",
              ".sk-estimator-doc-link.fitted span {\n",
              "  /* fitted */\n",
              "  background: var(--sklearn-color-fitted-level-0);\n",
              "  border: var(--sklearn-color-fitted-level-3);\n",
              "}\n",
              "\n",
              ".sk-estimator-doc-link:hover span {\n",
              "  display: block;\n",
              "}\n",
              "\n",
              "/* \"?\"-specific style due to the `<a>` HTML tag */\n",
              "\n",
              "#sk-container-id-3 a.estimator_doc_link {\n",
              "  float: right;\n",
              "  font-size: 1rem;\n",
              "  line-height: 1em;\n",
              "  font-family: monospace;\n",
              "  background-color: var(--sklearn-color-background);\n",
              "  border-radius: 1rem;\n",
              "  height: 1rem;\n",
              "  width: 1rem;\n",
              "  text-decoration: none;\n",
              "  /* unfitted */\n",
              "  color: var(--sklearn-color-unfitted-level-1);\n",
              "  border: var(--sklearn-color-unfitted-level-1) 1pt solid;\n",
              "}\n",
              "\n",
              "#sk-container-id-3 a.estimator_doc_link.fitted {\n",
              "  /* fitted */\n",
              "  border: var(--sklearn-color-fitted-level-1) 1pt solid;\n",
              "  color: var(--sklearn-color-fitted-level-1);\n",
              "}\n",
              "\n",
              "/* On hover */\n",
              "#sk-container-id-3 a.estimator_doc_link:hover {\n",
              "  /* unfitted */\n",
              "  background-color: var(--sklearn-color-unfitted-level-3);\n",
              "  color: var(--sklearn-color-background);\n",
              "  text-decoration: none;\n",
              "}\n",
              "\n",
              "#sk-container-id-3 a.estimator_doc_link.fitted:hover {\n",
              "  /* fitted */\n",
              "  background-color: var(--sklearn-color-fitted-level-3);\n",
              "}\n",
              "</style><div id=\"sk-container-id-3\" class=\"sk-top-container\"><div class=\"sk-text-repr-fallback\"><pre>RandomForestRegressor()</pre><b>In a Jupyter environment, please rerun this cell to show the HTML representation or trust the notebook. <br />On GitHub, the HTML representation is unable to render, please try loading this page with nbviewer.org.</b></div><div class=\"sk-container\" hidden><div class=\"sk-item\"><div class=\"sk-estimator fitted sk-toggleable\"><input class=\"sk-toggleable__control sk-hidden--visually\" id=\"sk-estimator-id-5\" type=\"checkbox\" checked><label for=\"sk-estimator-id-5\" class=\"sk-toggleable__label fitted sk-toggleable__label-arrow\"><div><div>RandomForestRegressor</div></div><div><a class=\"sk-estimator-doc-link fitted\" rel=\"noreferrer\" target=\"_blank\" href=\"https://scikit-learn.org/1.6/modules/generated/sklearn.ensemble.RandomForestRegressor.html\">?<span>Documentation for RandomForestRegressor</span></a><span class=\"sk-estimator-doc-link fitted\">i<span>Fitted</span></span></div></label><div class=\"sk-toggleable__content fitted\"><pre>RandomForestRegressor()</pre></div> </div></div></div></div>"
            ],
            "text/plain": [
              "RandomForestRegressor()"
            ]
          },
          "execution_count": 53,
          "metadata": {},
          "output_type": "execute_result"
        }
      ],
      "execution_count": null
    },
    {
      "cell_type": "markdown",
      "source": [
        "**STEP 4: Try Predicting Values**\n",
        "\n",
        "**TO DO (optional) :** Change values of features to see changes in the predicted value of house"
      ],
      "metadata": {
        "id": "xvTNzrcr0j4x"
      }
    },
    {
      "cell_type": "code",
      "source": [
        "# this is an example test case depicting how the prediction is done on a test data point.\n",
        "\n",
        "val1 = 8.3252\n",
        "val2 = 41.0\n",
        "val3 = 6.984127\n",
        "val4 = 1.023810\n",
        "val5 = 322.0\n",
        "val6 = 2.555556\n",
        "val7 = 37.88\n",
        "val8 = -122.23\n",
        "\n",
        "row = [[val1, val2, val3, val4, val5, val6, val7, val8]]\n",
        "\n",
        "# make a single prediction\n",
        "yhat = model.predict(row)\n",
        "\n",
        "print('House Value Prediction= $',yhat[0]*100000)"
      ],
      "metadata": {
        "id": "9rIm-v6ZH0Ju",
        "outputId": "160f58d1-dd19-4f2c-b8ea-dad4f1eeada2"
      },
      "outputs": [
        {
          "name": "stdout",
          "output_type": "stream",
          "text": "House Value Prediction= $ 444655.1200000003\n"
        }
      ],
      "execution_count": null
    },
    {
      "cell_type": "markdown",
      "source": [
        "**STEP 5: Testing the model (10 Points)**\n",
        "\n",
        "**TO DO:** Find target predictions by giving **X_test** input to your model and store them in **y_pred**. You may need [this link](https://scikit-learn.org/stable/modules/generated/sklearn.tree.DecisionTreeClassifier.html#sklearn.tree.DecisionTreeClassifier.predict) for reference."
      ],
      "metadata": {
        "id": "RfzVPn0x437S"
      }
    },
    {
      "cell_type": "code",
      "source": [
        "y_pred = None\n",
        "\n",
        "##### INPUT CODE HERE (~1 line of code) ######\n",
        "\n",
        "##############################################"
      ],
      "metadata": {
        "id": "oHbnwEyt48Mr"
      },
      "outputs": [],
      "execution_count": null
    },
    {
      "cell_type": "markdown",
      "source": [
        "**STEP 6: Visualize the Results (10 Points)**\n",
        "\n",
        "**TO DO:** Since this is not a classification task, we cannot plot confusion matrix. Instead we ask you to find the mean square error evaluated on all the testing data and store it in **mse**.\n",
        "\n",
        "You may need the following reference:\n",
        "\n",
        "[Mean Square Error](https://scikit-learn.org/stable/modules/generated/sklearn.metrics.mean_squared_error.html)\n"
      ],
      "metadata": {
        "id": "qqGiMHYC5FFu"
      }
    },
    {
      "cell_type": "code",
      "source": [
        "mse = None\n",
        "\n",
        "##### INPUT CODE HERE (~1 line of code) ######\n",
        "\n",
        "\n",
        "##############################################\n",
        "\n",
        "print(\"Mean Squared Error = \",mse)"
      ],
      "metadata": {
        "id": "sv-idAUX5Il-",
        "outputId": "d01f88b6-4064-40a4-fde1-79e1486a31bc"
      },
      "outputs": [
        {
          "name": "stdout",
          "output_type": "stream",
          "text": "Mean Squared Error =  0.275508192932742\n"
        }
      ],
      "execution_count": null
    },
    {
      "cell_type": "markdown",
      "source": [
        "\n",
        "\n",
        "---\n",
        "\n"
      ],
      "metadata": {
        "id": "gjrWJNii6Noe"
      }
    },
    {
      "cell_type": "markdown",
      "source": [
        "# **Hyperparameter Tuning**"
      ],
      "metadata": {
        "id": "rZ167Bw2d9wx"
      }
    },
    {
      "cell_type": "markdown",
      "source": [
        "**STEP 1: Hyperparameter Tuning (10 Points)**\n",
        "\n",
        "**TO DO:** Given the different range of the hyper parameters, tune them using grid search to get the value of these variables to get the best model is. Make sure the grid search is run for **5 rounds** of cross validation using **negative mean squared error**.\n"
      ],
      "metadata": {
        "id": "jKHA6-2_KTDh"
      }
    },
    {
      "cell_type": "code",
      "source": [
        "from sklearn.model_selection import GridSearchCV"
      ],
      "metadata": {
        "id": "-PZtUfovUgiQ"
      },
      "outputs": [],
      "execution_count": null
    },
    {
      "cell_type": "code",
      "source": [
        "param_grid = [\n",
        "    {'n_estimators': [10, 50, 100], 'max_features': [4, 5, 6 ], 'max_depth': [6, 7, 8, 9]}\n",
        "]\n",
        "\n",
        "#Use Random Forests\n",
        "forest_reg = RandomForestRegressor()\n",
        "\n",
        "##############################################\n",
        "\n",
        "# Write the code for hyperparameter tuning using Grid Search for the above parameters\n",
        "# Carry out the grid search and fit the data on the above variable -> \"grid_search\"\n",
        "\n",
        "\n",
        "##############################################"
      ],
      "metadata": {
        "id": "YHFVGQB1Uf_n",
        "outputId": "0090f7b5-632f-4e25-dc0d-d6888d62f8fd"
      },
      "outputs": [
        {
          "data": {
            "text/html": [
              "<style>#sk-container-id-4 {\n",
              "  /* Definition of color scheme common for light and dark mode */\n",
              "  --sklearn-color-text: #000;\n",
              "  --sklearn-color-text-muted: #666;\n",
              "  --sklearn-color-line: gray;\n",
              "  /* Definition of color scheme for unfitted estimators */\n",
              "  --sklearn-color-unfitted-level-0: #fff5e6;\n",
              "  --sklearn-color-unfitted-level-1: #f6e4d2;\n",
              "  --sklearn-color-unfitted-level-2: #ffe0b3;\n",
              "  --sklearn-color-unfitted-level-3: chocolate;\n",
              "  /* Definition of color scheme for fitted estimators */\n",
              "  --sklearn-color-fitted-level-0: #f0f8ff;\n",
              "  --sklearn-color-fitted-level-1: #d4ebff;\n",
              "  --sklearn-color-fitted-level-2: #b3dbfd;\n",
              "  --sklearn-color-fitted-level-3: cornflowerblue;\n",
              "\n",
              "  /* Specific color for light theme */\n",
              "  --sklearn-color-text-on-default-background: var(--sg-text-color, var(--theme-code-foreground, var(--jp-content-font-color1, black)));\n",
              "  --sklearn-color-background: var(--sg-background-color, var(--theme-background, var(--jp-layout-color0, white)));\n",
              "  --sklearn-color-border-box: var(--sg-text-color, var(--theme-code-foreground, var(--jp-content-font-color1, black)));\n",
              "  --sklearn-color-icon: #696969;\n",
              "\n",
              "  @media (prefers-color-scheme: dark) {\n",
              "    /* Redefinition of color scheme for dark theme */\n",
              "    --sklearn-color-text-on-default-background: var(--sg-text-color, var(--theme-code-foreground, var(--jp-content-font-color1, white)));\n",
              "    --sklearn-color-background: var(--sg-background-color, var(--theme-background, var(--jp-layout-color0, #111)));\n",
              "    --sklearn-color-border-box: var(--sg-text-color, var(--theme-code-foreground, var(--jp-content-font-color1, white)));\n",
              "    --sklearn-color-icon: #878787;\n",
              "  }\n",
              "}\n",
              "\n",
              "#sk-container-id-4 {\n",
              "  color: var(--sklearn-color-text);\n",
              "}\n",
              "\n",
              "#sk-container-id-4 pre {\n",
              "  padding: 0;\n",
              "}\n",
              "\n",
              "#sk-container-id-4 input.sk-hidden--visually {\n",
              "  border: 0;\n",
              "  clip: rect(1px 1px 1px 1px);\n",
              "  clip: rect(1px, 1px, 1px, 1px);\n",
              "  height: 1px;\n",
              "  margin: -1px;\n",
              "  overflow: hidden;\n",
              "  padding: 0;\n",
              "  position: absolute;\n",
              "  width: 1px;\n",
              "}\n",
              "\n",
              "#sk-container-id-4 div.sk-dashed-wrapped {\n",
              "  border: 1px dashed var(--sklearn-color-line);\n",
              "  margin: 0 0.4em 0.5em 0.4em;\n",
              "  box-sizing: border-box;\n",
              "  padding-bottom: 0.4em;\n",
              "  background-color: var(--sklearn-color-background);\n",
              "}\n",
              "\n",
              "#sk-container-id-4 div.sk-container {\n",
              "  /* jupyter's `normalize.less` sets `[hidden] { display: none; }`\n",
              "     but bootstrap.min.css set `[hidden] { display: none !important; }`\n",
              "     so we also need the `!important` here to be able to override the\n",
              "     default hidden behavior on the sphinx rendered scikit-learn.org.\n",
              "     See: https://github.com/scikit-learn/scikit-learn/issues/21755 */\n",
              "  display: inline-block !important;\n",
              "  position: relative;\n",
              "}\n",
              "\n",
              "#sk-container-id-4 div.sk-text-repr-fallback {\n",
              "  display: none;\n",
              "}\n",
              "\n",
              "div.sk-parallel-item,\n",
              "div.sk-serial,\n",
              "div.sk-item {\n",
              "  /* draw centered vertical line to link estimators */\n",
              "  background-image: linear-gradient(var(--sklearn-color-text-on-default-background), var(--sklearn-color-text-on-default-background));\n",
              "  background-size: 2px 100%;\n",
              "  background-repeat: no-repeat;\n",
              "  background-position: center center;\n",
              "}\n",
              "\n",
              "/* Parallel-specific style estimator block */\n",
              "\n",
              "#sk-container-id-4 div.sk-parallel-item::after {\n",
              "  content: \"\";\n",
              "  width: 100%;\n",
              "  border-bottom: 2px solid var(--sklearn-color-text-on-default-background);\n",
              "  flex-grow: 1;\n",
              "}\n",
              "\n",
              "#sk-container-id-4 div.sk-parallel {\n",
              "  display: flex;\n",
              "  align-items: stretch;\n",
              "  justify-content: center;\n",
              "  background-color: var(--sklearn-color-background);\n",
              "  position: relative;\n",
              "}\n",
              "\n",
              "#sk-container-id-4 div.sk-parallel-item {\n",
              "  display: flex;\n",
              "  flex-direction: column;\n",
              "}\n",
              "\n",
              "#sk-container-id-4 div.sk-parallel-item:first-child::after {\n",
              "  align-self: flex-end;\n",
              "  width: 50%;\n",
              "}\n",
              "\n",
              "#sk-container-id-4 div.sk-parallel-item:last-child::after {\n",
              "  align-self: flex-start;\n",
              "  width: 50%;\n",
              "}\n",
              "\n",
              "#sk-container-id-4 div.sk-parallel-item:only-child::after {\n",
              "  width: 0;\n",
              "}\n",
              "\n",
              "/* Serial-specific style estimator block */\n",
              "\n",
              "#sk-container-id-4 div.sk-serial {\n",
              "  display: flex;\n",
              "  flex-direction: column;\n",
              "  align-items: center;\n",
              "  background-color: var(--sklearn-color-background);\n",
              "  padding-right: 1em;\n",
              "  padding-left: 1em;\n",
              "}\n",
              "\n",
              "\n",
              "/* Toggleable style: style used for estimator/Pipeline/ColumnTransformer box that is\n",
              "clickable and can be expanded/collapsed.\n",
              "- Pipeline and ColumnTransformer use this feature and define the default style\n",
              "- Estimators will overwrite some part of the style using the `sk-estimator` class\n",
              "*/\n",
              "\n",
              "/* Pipeline and ColumnTransformer style (default) */\n",
              "\n",
              "#sk-container-id-4 div.sk-toggleable {\n",
              "  /* Default theme specific background. It is overwritten whether we have a\n",
              "  specific estimator or a Pipeline/ColumnTransformer */\n",
              "  background-color: var(--sklearn-color-background);\n",
              "}\n",
              "\n",
              "/* Toggleable label */\n",
              "#sk-container-id-4 label.sk-toggleable__label {\n",
              "  cursor: pointer;\n",
              "  display: flex;\n",
              "  width: 100%;\n",
              "  margin-bottom: 0;\n",
              "  padding: 0.5em;\n",
              "  box-sizing: border-box;\n",
              "  text-align: center;\n",
              "  align-items: start;\n",
              "  justify-content: space-between;\n",
              "  gap: 0.5em;\n",
              "}\n",
              "\n",
              "#sk-container-id-4 label.sk-toggleable__label .caption {\n",
              "  font-size: 0.6rem;\n",
              "  font-weight: lighter;\n",
              "  color: var(--sklearn-color-text-muted);\n",
              "}\n",
              "\n",
              "#sk-container-id-4 label.sk-toggleable__label-arrow:before {\n",
              "  /* Arrow on the left of the label */\n",
              "  content: \"▸\";\n",
              "  float: left;\n",
              "  margin-right: 0.25em;\n",
              "  color: var(--sklearn-color-icon);\n",
              "}\n",
              "\n",
              "#sk-container-id-4 label.sk-toggleable__label-arrow:hover:before {\n",
              "  color: var(--sklearn-color-text);\n",
              "}\n",
              "\n",
              "/* Toggleable content - dropdown */\n",
              "\n",
              "#sk-container-id-4 div.sk-toggleable__content {\n",
              "  max-height: 0;\n",
              "  max-width: 0;\n",
              "  overflow: hidden;\n",
              "  text-align: left;\n",
              "  /* unfitted */\n",
              "  background-color: var(--sklearn-color-unfitted-level-0);\n",
              "}\n",
              "\n",
              "#sk-container-id-4 div.sk-toggleable__content.fitted {\n",
              "  /* fitted */\n",
              "  background-color: var(--sklearn-color-fitted-level-0);\n",
              "}\n",
              "\n",
              "#sk-container-id-4 div.sk-toggleable__content pre {\n",
              "  margin: 0.2em;\n",
              "  border-radius: 0.25em;\n",
              "  color: var(--sklearn-color-text);\n",
              "  /* unfitted */\n",
              "  background-color: var(--sklearn-color-unfitted-level-0);\n",
              "}\n",
              "\n",
              "#sk-container-id-4 div.sk-toggleable__content.fitted pre {\n",
              "  /* unfitted */\n",
              "  background-color: var(--sklearn-color-fitted-level-0);\n",
              "}\n",
              "\n",
              "#sk-container-id-4 input.sk-toggleable__control:checked~div.sk-toggleable__content {\n",
              "  /* Expand drop-down */\n",
              "  max-height: 200px;\n",
              "  max-width: 100%;\n",
              "  overflow: auto;\n",
              "}\n",
              "\n",
              "#sk-container-id-4 input.sk-toggleable__control:checked~label.sk-toggleable__label-arrow:before {\n",
              "  content: \"▾\";\n",
              "}\n",
              "\n",
              "/* Pipeline/ColumnTransformer-specific style */\n",
              "\n",
              "#sk-container-id-4 div.sk-label input.sk-toggleable__control:checked~label.sk-toggleable__label {\n",
              "  color: var(--sklearn-color-text);\n",
              "  background-color: var(--sklearn-color-unfitted-level-2);\n",
              "}\n",
              "\n",
              "#sk-container-id-4 div.sk-label.fitted input.sk-toggleable__control:checked~label.sk-toggleable__label {\n",
              "  background-color: var(--sklearn-color-fitted-level-2);\n",
              "}\n",
              "\n",
              "/* Estimator-specific style */\n",
              "\n",
              "/* Colorize estimator box */\n",
              "#sk-container-id-4 div.sk-estimator input.sk-toggleable__control:checked~label.sk-toggleable__label {\n",
              "  /* unfitted */\n",
              "  background-color: var(--sklearn-color-unfitted-level-2);\n",
              "}\n",
              "\n",
              "#sk-container-id-4 div.sk-estimator.fitted input.sk-toggleable__control:checked~label.sk-toggleable__label {\n",
              "  /* fitted */\n",
              "  background-color: var(--sklearn-color-fitted-level-2);\n",
              "}\n",
              "\n",
              "#sk-container-id-4 div.sk-label label.sk-toggleable__label,\n",
              "#sk-container-id-4 div.sk-label label {\n",
              "  /* The background is the default theme color */\n",
              "  color: var(--sklearn-color-text-on-default-background);\n",
              "}\n",
              "\n",
              "/* On hover, darken the color of the background */\n",
              "#sk-container-id-4 div.sk-label:hover label.sk-toggleable__label {\n",
              "  color: var(--sklearn-color-text);\n",
              "  background-color: var(--sklearn-color-unfitted-level-2);\n",
              "}\n",
              "\n",
              "/* Label box, darken color on hover, fitted */\n",
              "#sk-container-id-4 div.sk-label.fitted:hover label.sk-toggleable__label.fitted {\n",
              "  color: var(--sklearn-color-text);\n",
              "  background-color: var(--sklearn-color-fitted-level-2);\n",
              "}\n",
              "\n",
              "/* Estimator label */\n",
              "\n",
              "#sk-container-id-4 div.sk-label label {\n",
              "  font-family: monospace;\n",
              "  font-weight: bold;\n",
              "  display: inline-block;\n",
              "  line-height: 1.2em;\n",
              "}\n",
              "\n",
              "#sk-container-id-4 div.sk-label-container {\n",
              "  text-align: center;\n",
              "}\n",
              "\n",
              "/* Estimator-specific */\n",
              "#sk-container-id-4 div.sk-estimator {\n",
              "  font-family: monospace;\n",
              "  border: 1px dotted var(--sklearn-color-border-box);\n",
              "  border-radius: 0.25em;\n",
              "  box-sizing: border-box;\n",
              "  margin-bottom: 0.5em;\n",
              "  /* unfitted */\n",
              "  background-color: var(--sklearn-color-unfitted-level-0);\n",
              "}\n",
              "\n",
              "#sk-container-id-4 div.sk-estimator.fitted {\n",
              "  /* fitted */\n",
              "  background-color: var(--sklearn-color-fitted-level-0);\n",
              "}\n",
              "\n",
              "/* on hover */\n",
              "#sk-container-id-4 div.sk-estimator:hover {\n",
              "  /* unfitted */\n",
              "  background-color: var(--sklearn-color-unfitted-level-2);\n",
              "}\n",
              "\n",
              "#sk-container-id-4 div.sk-estimator.fitted:hover {\n",
              "  /* fitted */\n",
              "  background-color: var(--sklearn-color-fitted-level-2);\n",
              "}\n",
              "\n",
              "/* Specification for estimator info (e.g. \"i\" and \"?\") */\n",
              "\n",
              "/* Common style for \"i\" and \"?\" */\n",
              "\n",
              ".sk-estimator-doc-link,\n",
              "a:link.sk-estimator-doc-link,\n",
              "a:visited.sk-estimator-doc-link {\n",
              "  float: right;\n",
              "  font-size: smaller;\n",
              "  line-height: 1em;\n",
              "  font-family: monospace;\n",
              "  background-color: var(--sklearn-color-background);\n",
              "  border-radius: 1em;\n",
              "  height: 1em;\n",
              "  width: 1em;\n",
              "  text-decoration: none !important;\n",
              "  margin-left: 0.5em;\n",
              "  text-align: center;\n",
              "  /* unfitted */\n",
              "  border: var(--sklearn-color-unfitted-level-1) 1pt solid;\n",
              "  color: var(--sklearn-color-unfitted-level-1);\n",
              "}\n",
              "\n",
              ".sk-estimator-doc-link.fitted,\n",
              "a:link.sk-estimator-doc-link.fitted,\n",
              "a:visited.sk-estimator-doc-link.fitted {\n",
              "  /* fitted */\n",
              "  border: var(--sklearn-color-fitted-level-1) 1pt solid;\n",
              "  color: var(--sklearn-color-fitted-level-1);\n",
              "}\n",
              "\n",
              "/* On hover */\n",
              "div.sk-estimator:hover .sk-estimator-doc-link:hover,\n",
              ".sk-estimator-doc-link:hover,\n",
              "div.sk-label-container:hover .sk-estimator-doc-link:hover,\n",
              ".sk-estimator-doc-link:hover {\n",
              "  /* unfitted */\n",
              "  background-color: var(--sklearn-color-unfitted-level-3);\n",
              "  color: var(--sklearn-color-background);\n",
              "  text-decoration: none;\n",
              "}\n",
              "\n",
              "div.sk-estimator.fitted:hover .sk-estimator-doc-link.fitted:hover,\n",
              ".sk-estimator-doc-link.fitted:hover,\n",
              "div.sk-label-container:hover .sk-estimator-doc-link.fitted:hover,\n",
              ".sk-estimator-doc-link.fitted:hover {\n",
              "  /* fitted */\n",
              "  background-color: var(--sklearn-color-fitted-level-3);\n",
              "  color: var(--sklearn-color-background);\n",
              "  text-decoration: none;\n",
              "}\n",
              "\n",
              "/* Span, style for the box shown on hovering the info icon */\n",
              ".sk-estimator-doc-link span {\n",
              "  display: none;\n",
              "  z-index: 9999;\n",
              "  position: relative;\n",
              "  font-weight: normal;\n",
              "  right: .2ex;\n",
              "  padding: .5ex;\n",
              "  margin: .5ex;\n",
              "  width: min-content;\n",
              "  min-width: 20ex;\n",
              "  max-width: 50ex;\n",
              "  color: var(--sklearn-color-text);\n",
              "  box-shadow: 2pt 2pt 4pt #999;\n",
              "  /* unfitted */\n",
              "  background: var(--sklearn-color-unfitted-level-0);\n",
              "  border: .5pt solid var(--sklearn-color-unfitted-level-3);\n",
              "}\n",
              "\n",
              ".sk-estimator-doc-link.fitted span {\n",
              "  /* fitted */\n",
              "  background: var(--sklearn-color-fitted-level-0);\n",
              "  border: var(--sklearn-color-fitted-level-3);\n",
              "}\n",
              "\n",
              ".sk-estimator-doc-link:hover span {\n",
              "  display: block;\n",
              "}\n",
              "\n",
              "/* \"?\"-specific style due to the `<a>` HTML tag */\n",
              "\n",
              "#sk-container-id-4 a.estimator_doc_link {\n",
              "  float: right;\n",
              "  font-size: 1rem;\n",
              "  line-height: 1em;\n",
              "  font-family: monospace;\n",
              "  background-color: var(--sklearn-color-background);\n",
              "  border-radius: 1rem;\n",
              "  height: 1rem;\n",
              "  width: 1rem;\n",
              "  text-decoration: none;\n",
              "  /* unfitted */\n",
              "  color: var(--sklearn-color-unfitted-level-1);\n",
              "  border: var(--sklearn-color-unfitted-level-1) 1pt solid;\n",
              "}\n",
              "\n",
              "#sk-container-id-4 a.estimator_doc_link.fitted {\n",
              "  /* fitted */\n",
              "  border: var(--sklearn-color-fitted-level-1) 1pt solid;\n",
              "  color: var(--sklearn-color-fitted-level-1);\n",
              "}\n",
              "\n",
              "/* On hover */\n",
              "#sk-container-id-4 a.estimator_doc_link:hover {\n",
              "  /* unfitted */\n",
              "  background-color: var(--sklearn-color-unfitted-level-3);\n",
              "  color: var(--sklearn-color-background);\n",
              "  text-decoration: none;\n",
              "}\n",
              "\n",
              "#sk-container-id-4 a.estimator_doc_link.fitted:hover {\n",
              "  /* fitted */\n",
              "  background-color: var(--sklearn-color-fitted-level-3);\n",
              "}\n",
              "</style><div id=\"sk-container-id-4\" class=\"sk-top-container\"><div class=\"sk-text-repr-fallback\"><pre>GridSearchCV(estimator=RandomForestRegressor(),\n",
              "             param_grid=[{&#x27;max_depth&#x27;: [6, 7, 8, 9], &#x27;max_features&#x27;: [4, 5, 6],\n",
              "                          &#x27;n_estimators&#x27;: [10, 50, 100]}])</pre><b>In a Jupyter environment, please rerun this cell to show the HTML representation or trust the notebook. <br />On GitHub, the HTML representation is unable to render, please try loading this page with nbviewer.org.</b></div><div class=\"sk-container\" hidden><div class=\"sk-item sk-dashed-wrapped\"><div class=\"sk-label-container\"><div class=\"sk-label fitted sk-toggleable\"><input class=\"sk-toggleable__control sk-hidden--visually\" id=\"sk-estimator-id-6\" type=\"checkbox\" ><label for=\"sk-estimator-id-6\" class=\"sk-toggleable__label fitted sk-toggleable__label-arrow\"><div><div>GridSearchCV</div></div><div><a class=\"sk-estimator-doc-link fitted\" rel=\"noreferrer\" target=\"_blank\" href=\"https://scikit-learn.org/1.6/modules/generated/sklearn.model_selection.GridSearchCV.html\">?<span>Documentation for GridSearchCV</span></a><span class=\"sk-estimator-doc-link fitted\">i<span>Fitted</span></span></div></label><div class=\"sk-toggleable__content fitted\"><pre>GridSearchCV(estimator=RandomForestRegressor(),\n",
              "             param_grid=[{&#x27;max_depth&#x27;: [6, 7, 8, 9], &#x27;max_features&#x27;: [4, 5, 6],\n",
              "                          &#x27;n_estimators&#x27;: [10, 50, 100]}])</pre></div> </div></div><div class=\"sk-parallel\"><div class=\"sk-parallel-item\"><div class=\"sk-item\"><div class=\"sk-label-container\"><div class=\"sk-label fitted sk-toggleable\"><input class=\"sk-toggleable__control sk-hidden--visually\" id=\"sk-estimator-id-7\" type=\"checkbox\" ><label for=\"sk-estimator-id-7\" class=\"sk-toggleable__label fitted sk-toggleable__label-arrow\"><div><div>best_estimator_: RandomForestRegressor</div></div></label><div class=\"sk-toggleable__content fitted\"><pre>RandomForestRegressor(max_depth=9, max_features=4)</pre></div> </div></div><div class=\"sk-serial\"><div class=\"sk-item\"><div class=\"sk-estimator fitted sk-toggleable\"><input class=\"sk-toggleable__control sk-hidden--visually\" id=\"sk-estimator-id-8\" type=\"checkbox\" ><label for=\"sk-estimator-id-8\" class=\"sk-toggleable__label fitted sk-toggleable__label-arrow\"><div><div>RandomForestRegressor</div></div><div><a class=\"sk-estimator-doc-link fitted\" rel=\"noreferrer\" target=\"_blank\" href=\"https://scikit-learn.org/1.6/modules/generated/sklearn.ensemble.RandomForestRegressor.html\">?<span>Documentation for RandomForestRegressor</span></a></div></label><div class=\"sk-toggleable__content fitted\"><pre>RandomForestRegressor(max_depth=9, max_features=4)</pre></div> </div></div></div></div></div></div></div></div></div>"
            ],
            "text/plain": [
              "GridSearchCV(estimator=RandomForestRegressor(),\n",
              "             param_grid=[{'max_depth': [6, 7, 8, 9], 'max_features': [4, 5, 6],\n",
              "                          'n_estimators': [10, 50, 100]}])"
            ]
          },
          "execution_count": 58,
          "metadata": {},
          "output_type": "execute_result"
        }
      ],
      "execution_count": null
    },
    {
      "cell_type": "code",
      "source": [
        "# Display the best parameter combination\n",
        "grid_search.best_params_"
      ],
      "metadata": {
        "id": "zKupJ2WmK180",
        "outputId": "b88c1e31-da3f-4424-f235-7e35e0731e2d"
      },
      "outputs": [
        {
          "data": {
            "text/plain": [
              "{'max_depth': 9, 'max_features': 4, 'n_estimators': 100}"
            ]
          },
          "execution_count": 59,
          "metadata": {},
          "output_type": "execute_result"
        }
      ],
      "execution_count": null
    },
    {
      "cell_type": "markdown",
      "source": [
        "# **FYI Only**\n",
        "# The below code is for you to learn more about Random Forest and will not be graded"
      ],
      "metadata": {
        "id": "GvDiveQuUVjX"
      }
    },
    {
      "cell_type": "markdown",
      "source": [
        "This section is for your information only. Simply run the code cells one by one.\n",
        "\n",
        "We will take a closer look at some of the hyperparameters you should consider tuning for the random forest ensemble and their effect on model performance.\n",
        "\n",
        "We select the hyperparameters that give us the lowest error rate or Mean Square Error in this case."
      ],
      "metadata": {
        "id": "aciYVvHl6SXc"
      }
    },
    {
      "cell_type": "markdown",
      "source": [
        "First we define a function to evaluate a model using the mean square error metric."
      ],
      "metadata": {
        "id": "MORy4fvn6tLr"
      }
    },
    {
      "cell_type": "code",
      "source": [
        "def find_mse(model, X, y):\n",
        "\n",
        "  yhat = model.predict(X)\n",
        "  mse = mean_squared_error(y,yhat)\n",
        "\n",
        "  return mse"
      ],
      "metadata": {
        "id": "CZMltehuec4q"
      },
      "outputs": [],
      "execution_count": null
    },
    {
      "cell_type": "markdown",
      "source": [
        "Next we define a function to test out various models and plot how the Mean Square Error evolves with respect to the hyperparameter in question."
      ],
      "metadata": {
        "id": "U53kHMzd6-7l"
      }
    },
    {
      "cell_type": "code",
      "source": [
        "from matplotlib import pyplot\n",
        "\n",
        "def plot_tuning(models_dict,X_train,X_test,y_train,y_test):\n",
        "\n",
        "  results, names = list(), list()\n",
        "\n",
        "  for name, model in models_dict.items():\n",
        "\n",
        "    model.fit(X_train, y_train)\n",
        "    mse = find_mse(model, X_test, y_test)\n",
        "\n",
        "    results.append(mse)\n",
        "    names.append(name)\n",
        "    print(\"Hyperparameter= \",name,\"; MSE = \",mse)\n",
        "\n",
        "\n",
        "    n = [float(i) for i in names]\n",
        "\n",
        "  pyplot.plot(n,results)\n",
        "  pyplot.ylabel('Mean Square Error')\n",
        "  pyplot.xlabel('Hyperparameter')\n",
        "  pyplot.show()"
      ],
      "metadata": {
        "id": "ttit1Xm4eqeP"
      },
      "outputs": [],
      "execution_count": null
    },
    {
      "cell_type": "markdown",
      "source": [
        "**Hyperparameter:** max_samples.\n",
        "\n",
        "The **max_samples** argument can be set to a float between 0 and 1 to control the percentage of the size of the training dataset to make the sample used to train each decision tree. **None** means that the entire training set will be used to train each tree."
      ],
      "metadata": {
        "id": "-AbjOvTDeCGR"
      }
    },
    {
      "cell_type": "code",
      "source": [
        "#Store various models into a dictionary of models\n",
        "models_dict = dict()\n",
        "for i in np.arange(0.1, 1.1, 0.1):\n",
        "  # set max_samples=None to use 100%\n",
        "  key = round(i,2)\n",
        "  if i == 1.0:\n",
        "    i = None\n",
        "  models_dict[key] = RandomForestRegressor(max_samples=i)\n",
        ""
      ],
      "metadata": {
        "id": "QcEEhuLEYpZ1"
      },
      "outputs": [],
      "execution_count": null
    },
    {
      "cell_type": "code",
      "source": [
        "#Plot the MSE for all models in the dictionary\n",
        "plot_tuning(models_dict,X_train,X_test,y_train,y_test)"
      ],
      "metadata": {
        "id": "3UkIwr82m4wF"
      },
      "outputs": [],
      "execution_count": null
    },
    {
      "cell_type": "markdown",
      "source": [
        "**Hyperparameter:** max_features.\n",
        "\n",
        "The number of features that is randomly sampled for each split point is perhaps the most important feature to configure for random forest."
      ],
      "metadata": {
        "id": "U1TOelFJ9jXx"
      }
    },
    {
      "cell_type": "code",
      "source": [
        "#Store various models into a dictionary of models\n",
        "models_dict = dict()\n",
        "\n",
        "for i in range(1,8):\n",
        "  models_dict[str(i)] = RandomForestRegressor(max_features=i)\n"
      ],
      "metadata": {
        "id": "V1TOiDTDgL7h"
      },
      "outputs": [],
      "execution_count": null
    },
    {
      "cell_type": "code",
      "source": [
        "#Plot the MSE for all models in the dictionary\n",
        "plot_tuning(models_dict,X_train,X_test,y_train,y_test)"
      ],
      "metadata": {
        "id": "LSgMQgIfne3Q"
      },
      "outputs": [],
      "execution_count": null
    },
    {
      "cell_type": "markdown",
      "source": [
        "**Hyperparameter:** n_estimators.\n",
        "\n",
        "Typically, the number of trees is increased until the model performance stabilizes. Intuition might suggest that more trees will lead to overfitting, although this is not the case."
      ],
      "metadata": {
        "id": "2FEQHe7Y-Khh"
      }
    },
    {
      "cell_type": "code",
      "source": [
        "#Store various models into a dictionary of models\n",
        "models_dict = dict()\n",
        "\n",
        "n_trees = [10, 50, 100, 500, 1000]\n",
        "for n in n_trees:\n",
        "  models_dict[str(n)] = RandomForestRegressor(n_estimators=n)"
      ],
      "metadata": {
        "id": "TTblvr9xnh_0"
      },
      "outputs": [],
      "execution_count": null
    },
    {
      "cell_type": "code",
      "source": [
        "#Plot the MSE for all models in the dictionary\n",
        "plot_tuning(models_dict,X_train,X_test,y_train,y_test)"
      ],
      "metadata": {
        "id": "FRLUXSYXoGeE"
      },
      "outputs": [],
      "execution_count": null
    }
  ]
}